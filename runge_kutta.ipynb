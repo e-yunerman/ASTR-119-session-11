{
 "cells": [
  {
   "cell_type": "markdown",
   "metadata": {},
   "source": [
    "# ODE's\n",
    "Using the Runge Kutta method"
   ]
  },
  {
   "cell_type": "code",
   "execution_count": null,
   "metadata": {},
   "outputs": [],
   "source": [
    "%matplotlib inline\n",
    "import numpy as np\n",
    "import matplotlib.pyplot as plt\n"
   ]
  },
  {
   "cell_type": "code",
   "execution_count": null,
   "metadata": {},
   "outputs": [],
   "source": [
    "#define a function to integrate\n",
    "def dfdx(x, f):\n",
    "    return x**2 + x\n",
    "\n",
    "#define its intergral\n",
    "def f_int(x, C):\n",
    "    return (x**3)/3. + 0.5*x**2 + C"
   ]
  },
  {
   "cell_type": "code",
   "execution_count": null,
   "metadata": {},
   "outputs": [],
   "source": [
    "#define the second order of RK method\n",
    "def rk2_core(x_i, f_i, h, g):\n",
    "    #advance f by step h\n",
    "    \n",
    "    #half step\n",
    "    x_ipoh = x_i + 0.5*h\n",
    "    f_ipoh = f_i + 0.5*h*g(x_i, f_i)\n",
    "    \n",
    "    #full step\n",
    "    f_ipo = f_i + h*g(x_ipoh, f_ipoh)\n",
    "    \n",
    "    return f_ipo"
   ]
  },
  {
   "cell_type": "code",
   "execution_count": null,
   "metadata": {},
   "outputs": [],
   "source": [
    "#define the wrapper routine for RK2\n",
    "def rk2(dfdx, a, b, f_a, N):\n",
    "    #dfdx is the derivate with respect to x\n",
    "    #a is the lower bound\n",
    "    #b is the upper bound\n",
    "    #f_a is the boundary condition at a\n",
    "    #N is the number of steps\n",
    "    \n",
    "    #define out steps\n",
    "    x = np.linspace(a, b, N)\n",
    "    \n",
    "    #a single step size\n",
    "    h = x[1] - x[0]\n",
    "    \n",
    "    #an array to hold f\n",
    "    f = np.zeros(N, dtype = float)\n",
    "    \n",
    "    f[0] = f_a #value of f at a\n",
    "    \n",
    "    #evolve f along x\n",
    "    for i in range(1, N):\n",
    "        f[i] = rk2_core(x[i - 1], f[i - 1], h, dfdx)\n",
    "        \n",
    "    return x, f"
   ]
  },
  {
   "cell_type": "code",
   "execution_count": null,
   "metadata": {},
   "outputs": [],
   "source": [
    "#define the 4th order RK method\n",
    "def rk4_core(x_i, f_i, h, g):\n",
    "    \n",
    "    #define x at 1/2 step\n",
    "    x_ipoh = x_i + 0.5*h\n",
    "    \n",
    "    #define x at 1 step\n",
    "    x_ipo = x_i + h\n",
    "    \n",
    "    #advance f by a step h\n",
    "    \n",
    "    k_1 = h*g(x_i, f_i)\n",
    "    k_2 = h*g(x_ipoh, f_i + 0.5*k_1)\n",
    "    k_3 = h*g(x_ipoh, f_i + 0.5*k_2)\n",
    "    k_4 = h*g(x_ipo, f_i + k_3)\n",
    "    \n",
    "    f_ipo = f_i + (k_1 + 2*k_2 + 2*k_3 + k_4)/6.\n",
    "    \n",
    "    return f_ipo"
   ]
  },
  {
   "cell_type": "code",
   "execution_count": null,
   "metadata": {},
   "outputs": [],
   "source": [
    "#define the wrapper routine for RK4\n",
    "def rk4(dfdx, a, b, f_a, N):\n",
    "    #dfdx is the derivate with respect to x\n",
    "    #a is the lower bound\n",
    "    #b is the upper bound\n",
    "    #f_a is the boundary condition at a\n",
    "    #N is the number of steps\n",
    "    \n",
    "    #define out steps\n",
    "    x = np.linspace(a, b, N)\n",
    "    \n",
    "    #a single step size\n",
    "    h = x[1] - x[0]\n",
    "    \n",
    "    #an array to hold f\n",
    "    f = np.zeros(N, dtype = float)\n",
    "    \n",
    "    f[0] = f_a #value of f at a\n",
    "    \n",
    "    #evolve f along x\n",
    "    for i in range(1, N):\n",
    "        f[i] = rk4_core(x[i - 1], f[i - 1], h, dfdx)\n",
    "        \n",
    "    return x, f"
   ]
  },
  {
   "cell_type": "code",
   "execution_count": null,
   "metadata": {},
   "outputs": [],
   "source": [
    "#perform the integration\n",
    "a = 0.0\n",
    "b = 1.0\n",
    "f_a = 0.0\n",
    "N = 10\n",
    "\n",
    "x_2, f_2 = rk2(dfdx, a, b, f_a, N)\n",
    "x_4, f_4 = rk4(dfdx, a, b, f_a, N)\n",
    "\n",
    "x = x_2.copy()\n",
    "\n",
    "plt.plot(x_2, f_2, label = 'RK2')\n",
    "plt.plot(x_4, f_2, label = 'RK4')\n",
    "plt.plot(x, f_int(x, f_a), 'o', label = 'Analytic')\n",
    "plt.legend(frameon = False)\n",
    "plt.grid()"
   ]
  },
  {
   "cell_type": "code",
   "execution_count": null,
   "metadata": {},
   "outputs": [],
   "source": [
    "#compute the error and plot the error\n",
    "a = 0.0\n",
    "b = 1.0\n",
    "f_a = 1.0\n",
    "N = 10\n",
    "\n",
    "x_2, f_2 = rk2(dfdx, a, b, f_a, N)\n",
    "x_4, f_4 = rk4(dfdx, a, b, f_a, N)\n",
    "\n",
    "x = x_2.copy()\n",
    "\n",
    "f_analytic = f_int(x, f_a)\n",
    "error_2 = (f_2 - f_analytic) / f_analytic\n",
    "error_4 = (f_4 - f_analytic) / f_analytic\n",
    "\n",
    "plt.plot(x_2, error_2, label = 'RK2')\n",
    "plt.plot(x_4, error_4, label = 'RK4')\n",
    "plt.ylim(-1e-3, 1e-4)\n",
    "plt.legend(frameon = False)\n",
    "plt.grid()"
   ]
  },
  {
   "cell_type": "code",
   "execution_count": null,
   "metadata": {},
   "outputs": [],
   "source": [
    "print(error_4) #doing as best as the computer can do"
   ]
  },
  {
   "cell_type": "code",
   "execution_count": null,
   "metadata": {},
   "outputs": [],
   "source": []
  }
 ],
 "metadata": {
  "kernelspec": {
   "display_name": "Python 3",
   "language": "python",
   "name": "python3"
  },
  "language_info": {
   "codemirror_mode": {
    "name": "ipython",
    "version": 3
   },
   "file_extension": ".py",
   "mimetype": "text/x-python",
   "name": "python",
   "nbconvert_exporter": "python",
   "pygments_lexer": "ipython3",
   "version": "3.6.5"
  }
 },
 "nbformat": 4,
 "nbformat_minor": 2
}
